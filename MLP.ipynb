{
  "nbformat": 4,
  "nbformat_minor": 0,
  "metadata": {
    "colab": {
      "provenance": [],
      "gpuType": "T4",
      "authorship_tag": "ABX9TyP349SnEBBV2ZEUd4BL+JwC",
      "include_colab_link": true
    },
    "kernelspec": {
      "name": "python3",
      "display_name": "Python 3"
    },
    "language_info": {
      "name": "python"
    },
    "accelerator": "GPU"
  },
  "cells": [
    {
      "cell_type": "markdown",
      "metadata": {
        "id": "view-in-github",
        "colab_type": "text"
      },
      "source": [
        "<a href=\"https://colab.research.google.com/github/vannis422/vision/blob/main/MLP.ipynb\" target=\"_parent\"><img src=\"https://colab.research.google.com/assets/colab-badge.svg\" alt=\"Open In Colab\"/></a>"
      ]
    },
    {
      "cell_type": "code",
      "execution_count": 1,
      "metadata": {
        "colab": {
          "base_uri": "https://localhost:8080/"
        },
        "id": "thzlPSdVBuhS",
        "outputId": "632aa963-9600-4a29-f375-fe92ce241e66"
      },
      "outputs": [
        {
          "output_type": "execute_result",
          "data": {
            "text/plain": [
              "True"
            ]
          },
          "metadata": {},
          "execution_count": 1
        }
      ],
      "source": [
        "import torch\n",
        "torch.cuda.is_available()"
      ]
    },
    {
      "cell_type": "code",
      "source": [
        "import torch.nn as nn\n",
        "import torch.optim as optim\n",
        "import torchvision\n",
        "import torchvision.transforms as transforms\n",
        "from matplotlib import pyplot as plt\n",
        "from sklearn.model_selection import train_test_split\n",
        "from sklearn.metrics import accuracy_score"
      ],
      "metadata": {
        "id": "uRwSznC5B_Dz"
      },
      "execution_count": 2,
      "outputs": []
    },
    {
      "cell_type": "code",
      "source": [
        "# 載入 MNIST 資料並進行影像前處理\n",
        "# PyTorch 官方範例連結：https://github.com/pytorch/examples/blob/main/mnist_forward_forward/main.py#L160C23-L160C43\n",
        "\n",
        "transform = transforms.Compose([transforms.ToTensor()]) # 不進行前處理，但把讀進來的資料轉為 tensors\n",
        "\n",
        "# 進行資料前處理，將數值轉為 -1 到 1 之間\n",
        "# MNIST 影像的數值是 0 ~ 255，且是灰階影像 (只有一個 channel)\n",
        "# 因此 transforms.Normalize 函數內的數字要設為 (0.5,), (0.5,)，第一個數字代表 mean；第二個數字代表 std\n",
        "# 如果是彩色影像的話，transforms.Normalize 函數內的數字要改為 (0.5, 0.5, 0.5), (0.5, 0.5, 0.5)\n",
        "# transform = transforms.Compose(\n",
        "#     [\n",
        "#         transforms.ToTensor(),\n",
        "#         transforms.Normalize((0.5,), (0.5,)), # PyTorch 官方建議 (0.1307,), (0.3081,)\n",
        "#     ]\n",
        "# )\n",
        "\n",
        "# 載入 MNIST 資料\n",
        "# `train=False` 代表載入 test 資料\n",
        "trainset = torchvision.datasets.MNIST(root='./data', train=True, download=True, transform=transform)\n",
        "testset = torchvision.datasets.MNIST(root='./data', train=False, download=True, transform=transform)"
      ],
      "metadata": {
        "colab": {
          "base_uri": "https://localhost:8080/"
        },
        "id": "iprvIyltCHB-",
        "outputId": "c8ee5906-dd9c-4d76-f293-d0919a336b94"
      },
      "execution_count": 3,
      "outputs": [
        {
          "output_type": "stream",
          "name": "stderr",
          "text": [
            "100%|██████████| 9.91M/9.91M [00:00<00:00, 16.6MB/s]\n",
            "100%|██████████| 28.9k/28.9k [00:00<00:00, 494kB/s]\n",
            "100%|██████████| 1.65M/1.65M [00:00<00:00, 4.56MB/s]\n",
            "100%|██████████| 4.54k/4.54k [00:00<00:00, 7.54MB/s]\n"
          ]
        }
      ]
    },
    {
      "cell_type": "code",
      "source": [
        "print(f\"MNIST 訓練資料有 {len(trainset)} 筆\")\n",
        "print(f\"MNIST 測試資料有 {len(testset)} 筆\")"
      ],
      "metadata": {
        "colab": {
          "base_uri": "https://localhost:8080/"
        },
        "id": "p3jKzkHkCMt-",
        "outputId": "bd7d3f1e-0fbd-4f6d-9a05-94835a1326d8"
      },
      "execution_count": 4,
      "outputs": [
        {
          "output_type": "stream",
          "name": "stdout",
          "text": [
            "MNIST 訓練資料有 60000 筆\n",
            "MNIST 測試資料有 10000 筆\n"
          ]
        }
      ]
    },
    {
      "cell_type": "code",
      "source": [
        "# 沒有 ToTensor()\n",
        "tmp = torchvision.datasets.MNIST(root=\"./data\", train=False, download=True)\n",
        "\n",
        "# 取得第一張圖片和標籤\n",
        "image, label = tmp[0]\n",
        "print(f\"image 的資料格式為: {type(image)}\")"
      ],
      "metadata": {
        "colab": {
          "base_uri": "https://localhost:8080/"
        },
        "id": "qvljyCXOCOKH",
        "outputId": "70686120-835c-4e1c-e99e-efbe62218e7d"
      },
      "execution_count": 5,
      "outputs": [
        {
          "output_type": "stream",
          "name": "stdout",
          "text": [
            "image 的資料格式為: <class 'PIL.Image.Image'>\n"
          ]
        }
      ]
    },
    {
      "cell_type": "code",
      "source": [
        "# Jupyter Notebook 內建支援顯示 PIL 影像\n",
        "# 所以直接輸入在程式格中執行後會自動顯示原始影像\n",
        "\n",
        "image"
      ],
      "metadata": {
        "colab": {
          "base_uri": "https://localhost:8080/",
          "height": 45
        },
        "id": "wqlYEDq0CXXC",
        "outputId": "dc04650a-473b-4263-f73a-3fdae6a874c9"
      },
      "execution_count": 6,
      "outputs": [
        {
          "output_type": "execute_result",
          "data": {
            "text/plain": [
              "<PIL.Image.Image image mode=L size=28x28>"
            ],
            "image/png": "[encoded data removed]",
            "image/jpeg": "[encoded data removed]"
          },
          "metadata": {},
          "execution_count": 6
        }
      ]
    },
    {
      "cell_type": "code",
      "source": [
        "# maplotlib 的 imshow 功能可以顯示 PIL 影像\n",
        "# 但如果是灰階影像的話，它會幫套上 colormap，所以看起來很像彩色影像\n",
        "\n",
        "plt.imshow(image)\n",
        "# plt.imshow(image, cmap=\"gray\") # 若資料是灰階影像，應加上 cmap=\"gray\""
      ],
      "metadata": {
        "colab": {
          "base_uri": "https://localhost:8080/",
          "height": 448
        },
        "id": "P5kC2-9YCbCa",
        "outputId": "cdbc0447-3405-448a-d2a5-f8d93a30a59d"
      },
      "execution_count": 7,
      "outputs": [
        {
          "output_type": "execute_result",
          "data": {
            "text/plain": [
              "<matplotlib.image.AxesImage at 0x7861f8b21a90>"
            ]
          },
          "metadata": {},
          "execution_count": 7
        },
        {
          "output_type": "display_data",
          "data": {
            "text/plain": [
              "<Figure size 640x480 with 1 Axes>"
            ],
            "image/png": "[encoded data removed]"
          },
          "metadata": {}
        }
      ]
    },
    {
      "cell_type": "code",
      "source": [
        "# 觀察有進行 ToTensor() 後的資料\n",
        "\n",
        "# 取得第一張圖片和標籤\n",
        "image, label = trainset[0]\n",
        "print(f\"image 的資料格式為: {type(image)}\")"
      ],
      "metadata": {
        "colab": {
          "base_uri": "https://localhost:8080/"
        },
        "id": "BOoa-DKYCiMQ",
        "outputId": "76a4d730-6364-479f-a400-e37f37d1bbb4"
      },
      "execution_count": 8,
      "outputs": [
        {
          "output_type": "stream",
          "name": "stdout",
          "text": [
            "image 的資料格式為: <class 'torch.Tensor'>\n"
          ]
        }
      ]
    },
    {
      "cell_type": "code",
      "source": [
        "image.shape"
      ],
      "metadata": {
        "colab": {
          "base_uri": "https://localhost:8080/"
        },
        "id": "ck_KxhbBCsLD",
        "outputId": "98c5e10e-6479-4774-b041-af84fe19ae65"
      },
      "execution_count": 9,
      "outputs": [
        {
          "output_type": "execute_result",
          "data": {
            "text/plain": [
              "torch.Size([1, 28, 28])"
            ]
          },
          "metadata": {},
          "execution_count": 9
        }
      ]
    },
    {
      "cell_type": "code",
      "source": [
        "plt.imshow(image.squeeze(), cmap=\"gray\")"
      ],
      "metadata": {
        "colab": {
          "base_uri": "https://localhost:8080/",
          "height": 448
        },
        "id": "28JA6HluCtd4",
        "outputId": "d0026b0e-b2da-498a-f8b5-16b924b199b2"
      },
      "execution_count": 10,
      "outputs": [
        {
          "output_type": "execute_result",
          "data": {
            "text/plain": [
              "<matplotlib.image.AxesImage at 0x7861f9c72350>"
            ]
          },
          "metadata": {},
          "execution_count": 10
        },
        {
          "output_type": "display_data",
          "data": {
            "text/plain": [
              "<Figure size 640x480 with 1 Axes>"
            ],
            "image/png": "[encoded data removed]"
          },
          "metadata": {}
        }
      ]
    },
    {
      "cell_type": "code",
      "source": [
        "class MLP(nn.Module):\n",
        "    def __init__(self):\n",
        "        super().__init__() # 繼承 nn.Module 類別的初始化函數\n",
        "        hidden_size1 = 256 # 第一層隱藏層的神經元數量\n",
        "        hidden_size2 = 128 # 第二層隱藏層的神經元數量\n",
        "\n",
        "        self.layer_1 = nn.Linear(28*28, hidden_size1)\n",
        "        self.layer_2 = nn.Linear(256, hidden_size2)\n",
        "        self.cls_layer = nn.Linear(hidden_size2, 10)\n",
        "        self.relu = nn.ReLU()\n",
        "\n",
        "    def forward(self, x):\n",
        "        x = x.view(-1, 28*28) # 將輸入的 x 轉為 28*28 的形狀 (因為 transform.ToTensor() 會把圖片轉為 1*28*28)\n",
        "        x = self.relu(self.layer_1(x))\n",
        "        x = self.relu(self.layer_2(x))\n",
        "        x = self.cls_layer(x)\n",
        "        return x\n",
        "trainset, valset = train_test_split(trainset, test_size=0.1, random_state=42)\n",
        "print(f\"MNIST 訓練資料有 {len(trainset)} 筆\")\n",
        "print(f\"MNIST 訓練資料有 {len(valset)} 筆\")\n",
        "print(f\"MNIST 測試資料有 {len(testset)} 筆\")\n",
        "\n",
        "train_loader = torch.utils.data.DataLoader(trainset, batch_size=64, shuffle=True)\n",
        "val_loader = torch.utils.data.DataLoader(valset, batch_size=64, shuffle=False)\n",
        "test_loader = torch.utils.data.DataLoader(testset, batch_size=64, shuffle=False)"
      ],
      "metadata": {
        "colab": {
          "base_uri": "https://localhost:8080/"
        },
        "id": "8Q8xhVkhC0lB",
        "outputId": "dca4b336-677c-4cee-bd7b-3dde171d38e0"
      },
      "execution_count": 19,
      "outputs": [
        {
          "output_type": "stream",
          "name": "stdout",
          "text": [
            "MNIST 訓練資料有 43740 筆\n",
            "MNIST 訓練資料有 4860 筆\n",
            "MNIST 測試資料有 10000 筆\n"
          ]
        }
      ]
    },
    {
      "cell_type": "code",
      "source": [
        "train_iter = iter(train_loader)  # 取得迭代器\n",
        "batch_x, batch_y = next(train_iter) # 取出一個 batch\n",
        "print(batch_x)\n",
        "print(batch_y)\n",
        "print(batch_x.shape)\n",
        "print(batch_y.shape)"
      ],
      "metadata": {
        "colab": {
          "base_uri": "https://localhost:8080/"
        },
        "id": "O_-Ac7otD1eu",
        "outputId": "c30dc5c1-4517-4f24-ca59-62e2d4cf55db"
      },
      "execution_count": 16,
      "outputs": [
        {
          "output_type": "stream",
          "name": "stdout",
          "text": [
            "tensor([[[[0., 0., 0.,  ..., 0., 0., 0.],\n",
            "          [0., 0., 0.,  ..., 0., 0., 0.],\n",
            "          [0., 0., 0.,  ..., 0., 0., 0.],\n",
            "          ...,\n",
            "          [0., 0., 0.,  ..., 0., 0., 0.],\n",
            "          [0., 0., 0.,  ..., 0., 0., 0.],\n",
            "          [0., 0., 0.,  ..., 0., 0., 0.]]],\n",
            "\n",
            "\n",
            "        [[[0., 0., 0.,  ..., 0., 0., 0.],\n",
            "          [0., 0., 0.,  ..., 0., 0., 0.],\n",
            "          [0., 0., 0.,  ..., 0., 0., 0.],\n",
            "          ...,\n",
            "          [0., 0., 0.,  ..., 0., 0., 0.],\n",
            "          [0., 0., 0.,  ..., 0., 0., 0.],\n",
            "          [0., 0., 0.,  ..., 0., 0., 0.]]],\n",
            "\n",
            "\n",
            "        [[[0., 0., 0.,  ..., 0., 0., 0.],\n",
            "          [0., 0., 0.,  ..., 0., 0., 0.],\n",
            "          [0., 0., 0.,  ..., 0., 0., 0.],\n",
            "          ...,\n",
            "          [0., 0., 0.,  ..., 0., 0., 0.],\n",
            "          [0., 0., 0.,  ..., 0., 0., 0.],\n",
            "          [0., 0., 0.,  ..., 0., 0., 0.]]],\n",
            "\n",
            "\n",
            "        ...,\n",
            "\n",
            "\n",
            "        [[[0., 0., 0.,  ..., 0., 0., 0.],\n",
            "          [0., 0., 0.,  ..., 0., 0., 0.],\n",
            "          [0., 0., 0.,  ..., 0., 0., 0.],\n",
            "          ...,\n",
            "          [0., 0., 0.,  ..., 0., 0., 0.],\n",
            "          [0., 0., 0.,  ..., 0., 0., 0.],\n",
            "          [0., 0., 0.,  ..., 0., 0., 0.]]],\n",
            "\n",
            "\n",
            "        [[[0., 0., 0.,  ..., 0., 0., 0.],\n",
            "          [0., 0., 0.,  ..., 0., 0., 0.],\n",
            "          [0., 0., 0.,  ..., 0., 0., 0.],\n",
            "          ...,\n",
            "          [0., 0., 0.,  ..., 0., 0., 0.],\n",
            "          [0., 0., 0.,  ..., 0., 0., 0.],\n",
            "          [0., 0., 0.,  ..., 0., 0., 0.]]],\n",
            "\n",
            "\n",
            "        [[[0., 0., 0.,  ..., 0., 0., 0.],\n",
            "          [0., 0., 0.,  ..., 0., 0., 0.],\n",
            "          [0., 0., 0.,  ..., 0., 0., 0.],\n",
            "          ...,\n",
            "          [0., 0., 0.,  ..., 0., 0., 0.],\n",
            "          [0., 0., 0.,  ..., 0., 0., 0.],\n",
            "          [0., 0., 0.,  ..., 0., 0., 0.]]]])\n",
            "tensor([0, 9, 7, 2, 3, 6, 7, 0, 1, 4, 6, 1, 8, 1, 3, 0, 3, 1, 3, 0, 0, 2, 5, 1,\n",
            "        6, 1, 9, 6, 8, 4, 3, 5, 3, 9, 9, 5, 1, 9, 7, 3, 4, 6, 9, 6, 2, 5, 0, 0,\n",
            "        3, 9, 4, 0, 5, 1, 1, 9, 5, 6, 1, 6, 4, 1, 1, 4])\n",
            "torch.Size([64, 1, 28, 28])\n",
            "torch.Size([64])\n"
          ]
        }
      ]
    },
    {
      "cell_type": "code",
      "source": [
        "# 每次進行 next() 就會取得下一次的迭代\n",
        "\n",
        "_, batch_y = next(train_iter) # 這邊就單純觀察 y 就好\n",
        "print(batch_y)\n",
        "print(batch_y.shape)"
      ],
      "metadata": {
        "colab": {
          "base_uri": "https://localhost:8080/"
        },
        "id": "NyBF4jNLEAml",
        "outputId": "4b156edb-e4e9-4dd7-ecba-0499f418a423"
      },
      "execution_count": 17,
      "outputs": [
        {
          "output_type": "stream",
          "name": "stdout",
          "text": [
            "tensor([2, 5, 6, 7, 1, 5, 2, 9, 4, 5, 4, 7, 6, 7, 1, 1, 8, 2, 8, 6, 2, 7, 6, 5,\n",
            "        3, 7, 3, 8, 3, 9, 7, 6, 5, 9, 1, 8, 8, 6, 0, 3, 6, 4, 0, 3, 4, 8, 7, 6,\n",
            "        8, 2, 0, 1, 0, 8, 6, 8, 9, 7, 2, 3, 4, 5, 8, 3])\n",
            "torch.Size([64])\n"
          ]
        }
      ]
    },
    {
      "cell_type": "code",
      "source": [
        "device = torch.device(\"cuda\" if torch.cuda.is_available() else \"cpu\")\n",
        "# 初始化模型、損失函數、optimizer\n",
        "model = MLP().to(device)\n",
        "criterion = nn.CrossEntropyLoss()\n",
        "optimizer = optim.Adam(model.parameters(), lr=0.001)\n",
        "# 訓練模型\n",
        "epochs = 10\n",
        "train_losses, val_losses = [], []\n",
        "\n",
        "for epoch in range(epochs):\n",
        "    model.train()\n",
        "    running_loss = 0.0\n",
        "    for images, labels in train_loader:\n",
        "        images, labels = images.to(device), labels.to(device)\n",
        "        optimizer.zero_grad()\n",
        "        outputs = model(images)\n",
        "        loss = criterion(outputs, labels)\n",
        "        loss.backward()\n",
        "        optimizer.step()\n",
        "        running_loss += loss.item()\n",
        "    train_losses.append(running_loss / len(train_loader))\n",
        "\n",
        "    # 驗證模型\n",
        "    model.eval()\n",
        "    val_loss = 0.0\n",
        "    with torch.no_grad():\n",
        "        for images, labels in val_loader:\n",
        "            images, labels = images.to(device), labels.to(device)\n",
        "            outputs = model(images)\n",
        "            loss = criterion(outputs, labels)\n",
        "            val_loss += loss.item()\n",
        "    val_losses.append(val_loss / len(val_loader))\n",
        "\n",
        "    print(f'Epoch {epoch+1}/{epochs}, Train Loss: {train_losses[-1]:.4f}, Val Loss: {val_losses[-1]:.4f}')\n",
        "\n",
        "# 繪製 loss 的歷史記錄圖\n",
        "plt.plot(range(1, epochs+1), train_losses, label='Train Loss')\n",
        "plt.plot(range(1, epochs+1), val_losses, label='Validation Loss')\n",
        "plt.xlabel('Epochs')\n",
        "plt.ylabel('Loss')\n",
        "plt.legend()\n",
        "plt.title('Training and Validation Loss')\n",
        "plt.show()"
      ],
      "metadata": {
        "colab": {
          "base_uri": "https://localhost:8080/",
          "height": 654
        },
        "id": "9j4voP2eGroM",
        "outputId": "e83eb500-38b6-4590-a582-d58ee240c494"
      },
      "execution_count": 20,
      "outputs": [
        {
          "output_type": "stream",
          "name": "stdout",
          "text": [
            "Epoch 1/10, Train Loss: 0.3332, Val Loss: 0.1601\n",
            "Epoch 2/10, Train Loss: 0.1231, Val Loss: 0.1208\n",
            "Epoch 3/10, Train Loss: 0.0817, Val Loss: 0.1011\n",
            "Epoch 4/10, Train Loss: 0.0591, Val Loss: 0.1037\n",
            "Epoch 5/10, Train Loss: 0.0415, Val Loss: 0.1223\n",
            "Epoch 6/10, Train Loss: 0.0354, Val Loss: 0.1036\n",
            "Epoch 7/10, Train Loss: 0.0252, Val Loss: 0.0882\n",
            "Epoch 8/10, Train Loss: 0.0209, Val Loss: 0.0913\n",
            "Epoch 9/10, Train Loss: 0.0176, Val Loss: 0.1132\n",
            "Epoch 10/10, Train Loss: 0.0156, Val Loss: 0.1071\n"
          ]
        },
        {
          "output_type": "display_data",
          "data": {
            "text/plain": [
              "<Figure size 640x480 with 1 Axes>"
            ],
            "image/png": "[encoded data removed]"
          },
          "metadata": {}
        }
      ]
    },
    {
      "cell_type": "code",
      "source": [
        "print(outputs.shape)\n",
        "print(outputs.argmax(dim=1))\n",
        "print(outputs.argmax(dim=1).shape)"
      ],
      "metadata": {
        "colab": {
          "base_uri": "https://localhost:8080/"
        },
        "id": "EiGhknAiHfdv",
        "outputId": "d0b489da-8942-4b0e-95f3-6b8fb6b8e3fc"
      },
      "execution_count": 21,
      "outputs": [
        {
          "output_type": "stream",
          "name": "stdout",
          "text": [
            "torch.Size([60, 10])\n",
            "tensor([8, 6, 8, 0, 8, 7, 9, 1, 6, 7, 6, 1, 3, 9, 0, 6, 3, 3, 2, 3, 0, 8, 1, 2,\n",
            "        9, 2, 7, 3, 8, 3, 5, 9, 1, 9, 2, 4, 6, 2, 4, 9, 6, 6, 3, 5, 7, 1, 7, 2,\n",
            "        8, 6, 6, 1, 0, 0, 9, 1, 9, 9, 1, 4], device='cuda:0')\n",
            "torch.Size([60])\n"
          ]
        }
      ]
    },
    {
      "cell_type": "code",
      "source": [
        "model.eval()\n",
        "predictions = []\n",
        "test_loss = 0.0 # 在 test 的時候其實不用算 loss，因為通常我們沒有 test set 的標準答案\n",
        "test_losses = []\n",
        "\n",
        "with torch.no_grad():\n",
        "    for images, labels in test_loader:\n",
        "        images, labels = images.to(device), labels.to(device)\n",
        "        outputs = model(images)\n",
        "        tmp_pred = outputs.argmax(dim=1) # tmp_pred 的型態是 tensor\n",
        "        predictions.extend(tmp_pred.tolist()) # 如果用 append 的話會變成 [[1, 2, 3], [4, 5, 6]]\n",
        "\n",
        "        loss = criterion(outputs, labels)\n",
        "        test_loss += loss.item()\n",
        "test_losses.append(test_loss / len(test_loader))\n",
        "len(predictions) == len(testset)"
      ],
      "metadata": {
        "colab": {
          "base_uri": "https://localhost:8080/"
        },
        "id": "q6dm6nq2HhcR",
        "outputId": "ca5e0ea5-dadd-48be-b596-931c1c4e3c3e"
      },
      "execution_count": 23,
      "outputs": [
        {
          "output_type": "execute_result",
          "data": {
            "text/plain": [
              "True"
            ]
          },
          "metadata": {},
          "execution_count": 23
        }
      ]
    },
    {
      "cell_type": "code",
      "source": [
        "# 把 testset 中的正確答案取出來\n",
        "test_labels = [example[1] for example in testset]\n",
        "accuracy_score(test_labels, predictions)"
      ],
      "metadata": {
        "colab": {
          "base_uri": "https://localhost:8080/"
        },
        "id": "-WTeHNW-HvDD",
        "outputId": "78cf2d4e-73bd-487e-a569-1c63cfdef606"
      },
      "execution_count": 26,
      "outputs": [
        {
          "output_type": "execute_result",
          "data": {
            "text/plain": [
              "0.9772"
            ]
          },
          "metadata": {},
          "execution_count": 26
        }
      ]
    }
  ]
}